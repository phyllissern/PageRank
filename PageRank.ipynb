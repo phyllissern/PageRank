{
 "cells": [
  {
   "cell_type": "markdown",
   "metadata": {},
   "source": [
    "# Page Rank\n",
    "\n",
    "What is the most important website on the internet? Who is the \"key player\" on a sports team? Which countries are the most central players in the world economy? There is no one correct answer to any of these questions, but there is a most profitable one. [PageRank](https://en.wikipedia.org/wiki/PageRank) is an algorithm for ranking individual elements of complex systems, invited by Sergey Brin and Larry Page. It was the first and most famous algorithm used by the Google Search engine, and it is fair to say that the internet as we know it today would not exist without PageRank. \n",
    "\n",
    "In this project, we will implement PageRank. There are many good ways to implement this algorithm, but in this assignment we will use our newfound skills with object-oriented programming and iterators. \n",
    "\n",
    "### How does it work?\n",
    "\n",
    "For the purposes of this example, let's assume that we are talking about webpages. PageRank works by allowing a \"random surfer\" to move around webpages by following links. Each time the surfer lands on a page, it then looks for all the links on that page. It then picks one at random and follows it, thereby arriving at the next page, where the process repeats. Eventually, the surfer will visit all the pages one or more times. Pages that the surfer visits more frequently have higher *PageRank scores*. Because the surfer moves between linked pages, PageRank expresses an intuitive idea: **important pages are linked to other important pages.** [This diagram](https://en.wikipedia.org/wiki/PageRank#/media/File:PageRanks-Example.jpg) from Wikipedia gives a nice illustration. Note that more important webpages (higher PageRank) tend to be connected to other important webpages. \n",
    "\n",
    "<figure class=\"image\" style=\"width:50%\">\n",
    "  <img src=\"https://upload.wikimedia.org/wikipedia/en/thumb/8/8b/PageRanks-Example.jpg/1920px-PageRanks-Example.jpg\n",
    "\" alt=\"A set of 11 circles, with arrows between them. Some of the circles are larger than others, reflecting their high PageRank score. Large circles tend to be linked to other large circles by arrows.\" width=\"300px\">\n",
    "  <figcaption><i>A schematic for PageRank. </i></figcaption>\n",
    "</figure>\n",
    "\n",
    "\n",
    "#### Hamilton Dataset\n",
    "\n",
    "We will be using this data set that comes from the hit Broadway musical \"Hamilton.\"\n",
    "\n",
    "<figure class=\"image\" style=\"width:25%\">\n",
    "  <img src=\"https://m.media-amazon.com/images/M/MV5BNjViNWRjYWEtZTI0NC00N2E3LTk0NGQtMjY4NTM3OGNkZjY0XkEyXkFqcGdeQXVyMjUxMTY3ODM@._V1_.jpg\" alt=\"The logo of the musical Hamilton, showing a silhouette dressed in period custom standing on top of a five-pointed star.\" width=\"300px\">\n",
    "  <figcaption><i>The Hamilton data set</i></figcaption>\n",
    "</figure>\n",
    "\n",
    "The good folks at [The Hamilton Project](http://hamilton.newtfire.org/) analyzed the script for us, obtaining data on **who talks about whom** in each of the show's songs. When character A mentions character B, we'll think of this as a *link* from A to B, suggesting that B might be important. "
   ]
  },
  {
   "cell_type": "markdown",
   "metadata": {},
   "source": [
    "## Retrieving the Data"
   ]
  },
  {
   "cell_type": "code",
   "execution_count": 1,
   "metadata": {},
   "outputs": [],
   "source": [
    "import urllib\n",
    "import csv\n",
    "\n",
    "def retrieve_data(url):\n",
    "    \"\"\"\n",
    "    Retrieve a file from the specified url and save it in a local file \n",
    "    called data.csv. The intended values of url are: \n",
    "    \n",
    "    https://philchodrow.github.io/PIC16A/homework/HW3-hamilton-data.csv\n",
    "    \"\"\"\n",
    "    \n",
    "    # grab the data and parse it\n",
    "    filedata = urllib.request.urlopen(url) \n",
    "    to_write = filedata.read()\n",
    "    \n",
    "    # write to file\n",
    "    with open(\"data.csv\", \"wb\") as f:\n",
    "        f.write(to_write)\n",
    "        \n",
    "def read_data(path):\n",
    "    \"\"\"\n",
    "    read downloaded data from a .csv file, and return a list of tuples. \n",
    "    each tuple represents a link between states. \n",
    "    \"\"\"\n",
    "    with open(path, \"r\") as f:\n",
    "        reader = csv.reader(f)\n",
    "        return [(row[0], row[1]) for row in list(reader)]"
   ]
  },
  {
   "cell_type": "markdown",
   "metadata": {},
   "source": [
    "## Grabbing the Data"
   ]
  },
  {
   "cell_type": "code",
   "execution_count": 2,
   "metadata": {},
   "outputs": [],
   "source": [
    "url = \"https://philchodrow.github.io/PIC16A/homework/HW3-hamilton-data.csv\"\n",
    "\n",
    "# Call your functions below\n",
    "retrieve_data(url)          #retrieves the data from the url\n",
    "data=read_data(\"data.csv\")  #reads in the data from url and stores in variable data"
   ]
  },
  {
   "cell_type": "markdown",
   "metadata": {},
   "source": [
    "## Examining the structure of the data"
   ]
  },
  {
   "cell_type": "code",
   "execution_count": 3,
   "metadata": {},
   "outputs": [],
   "source": [
    "def describe(n):\n",
    "    '''\n",
    "    Describes the meaning of the nth row of the Hamilton data set\n",
    "    Parameter n: the user-specified row to describe\n",
    "    Return output: a string that describe the nth row\n",
    "    '''\n",
    "    N=str(n)         #converts to a string\n",
    "    P=str(data[n])   #converts the nth row to a string\n",
    "    n1=str(data[n][0]).capitalize()  #converts the first name in the nth row to a string and capitalizes it\n",
    "    n2=str(data[n][1]).capitalize()  #converts the second name in the nth row to a string and capitalizes it\n",
    "    \n",
    "    #creates the string that describes the nth row \n",
    "    output=\"Element \"+N+\" of the Hamilton data set is \"+P+\". This means that \"+n1+\" mentions \"+n2+ \" in a song.\"\n",
    "    \n",
    "    return output    #returns the string"
   ]
  },
  {
   "cell_type": "code",
   "execution_count": 4,
   "metadata": {},
   "outputs": [
    {
     "data": {
      "text/plain": [
       "\"Element 5 of the Hamilton data set is ('burr', 'betsy'). This means that Burr mentions Betsy in a song.\""
      ]
     },
     "execution_count": 4,
     "metadata": {},
     "output_type": "execute_result"
    }
   ],
   "source": [
    "describe(5)          #tests out the describe function"
   ]
  },
  {
   "cell_type": "markdown",
   "metadata": {},
   "source": [
    "## Converting the Data to a Dictionary"
   ]
  },
  {
   "cell_type": "code",
   "execution_count": 5,
   "metadata": {},
   "outputs": [],
   "source": [
    "def data_to_dictionary(data):\n",
    "    '''\n",
    "    Converts the data into a dictionary where each key is a character in Hamilton and the value \n",
    "    corresponding to each key is a list of the characters to which that key links (including repeats)\n",
    "    Parameter data: the user-supplied data set\n",
    "    Return D: the dict with keys that are characters and values that are lists of characters \n",
    "    '''\n",
    "    D={}   #create an empty dict\n",
    "    \n",
    "    #for loop to go through each line in the data set\n",
    "    for line in data:\n",
    "        #if statement to determine if the first item in the row (mentioner) is in the dict already\n",
    "        if line[0] in D:\n",
    "            #if it is, it will append the second item in the row (character mentioned) to the list\n",
    "            D[line[0]].append(line[1])\n",
    "        else:\n",
    "        #creates a new entry in the dict, with mentioner as key and a list containing the character mentioned\n",
    "            new={line[0]:[line[1]]}\n",
    "            D.update(new)  #updates the dict with the new entry\n",
    "             \n",
    "    return D   #returns the dict"
   ]
  },
  {
   "cell_type": "code",
   "execution_count": 6,
   "metadata": {},
   "outputs": [
    {
     "name": "stdout",
     "output_type": "stream",
     "text": [
      "{'burr': ['hamilton', 'weeks', 'madison', 'jay', 'theodosiaDaughter', 'betsy', 'theodosiaMother', 'hamilton', 'hamilton', 'hamilton', 'washington', 'hamilton', 'marthaWashington', 'schuylerSis', 'washington', 'burr', 'generalMontgomery', 'hamilton', 'philipS', 'peggy', 'angelica', 'eliza', 'hamilton', 'reynolds', 'hamilton', 'washington', 'hamilton', 'philipS', 'generalMercer', 'madison', 'jefferson', 'washington', 'hamilton', 'washington', 'jefferson', 'jefferson', 'madison', 'burr', 'hamilton', 'hamilton', 'jAdams', 'jefferson', 'hamilton', 'jefferson', 'burr', 'ness', 'hamilton', 'pendleton', 'angelica', 'eliza'], 'hamilton': ['burr', 'angelica', 'philipH', 'lafayette', 'eliza', 'laurens', 'mulligan', 'washington', 'eliza', 'lee', 'laurens', 'conway', 'hamilton', 'washington', 'lee', 'laurens', 'burr', 'washington', 'hamilton', 'burr', 'lee', 'burr', 'eliza', 'peggy', 'angelica', 'hamilton', 'laurens', 'mulligan', 'lafayette', 'burr', 'kingGeorge', 'burr', 'lafayette', 'laurens', 'burr', 'hamilton', 'reynolds', 'eliza', 'angelica', 'philipH', 'eliza', 'eacker', 'philipH', 'eliza', 'reynolds', 'jefferson', 'madison', 'burr', 'reynolds', 'washington', 'jefferson', 'washington', 'kingLouis', 'lafayette', 'burr', 'burr', 'angelica', 'maria', 'reynolds', 'angelica', 'madison', 'jefferson', 'eliza', 'schuylerSis', 'jAdams', 'jefferson', 'washington', 'madison', 'jefferson', 'hamilton', 'philipH', 'eliza', 'burr', 'jefferson', 'jAdams', 'burr', 'hamilton', 'burr', 'laurens', 'washington', 'eliza'], 'ensemble': ['washington', 'kingGeorge', 'jefferson', 'burr', 'hamilton', 'jAdams', 'jefferson'], 'company': ['hamilton', 'mulligan', 'lafayette', 'hamilton', 'washington', 'hamilton', 'admiralHowe', 'washington', 'kingGeorge', 'schuylerSis', 'angelica', 'reynolds', 'washington', 'jefferson', 'hamilton', 'burr', 'jefferson', 'eliza', 'jAdams', 'burr'], 'men': ['hamilton', 'angelica', 'jAdams', 'jefferson', 'burr'], 'women': ['hamilton', 'angelica', 'washington', 'eliza', 'burr', 'jefferson'], 'angelica': ['hamilton', 'hamilton', 'angelica', 'franklin', 'schuylerSis', 'eliza', 'angelica', 'eliza', 'burr', 'paine', 'jefferson', 'schuylerSis', 'hamilton', 'jefferson', 'angelica', 'eliza', 'angelica', 'hamilton', 'eliza', 'angelica', 'eliza'], 'eliza': ['hamilton', 'washington', 'hamilton', 'eliza', 'eliza', 'eliza', 'angelica', 'schuylerSis', 'angelica', 'eliza', 'hamilton', 'hamilton', 'philipH', 'angelica', 'jAdams', 'angelica', 'washington', 'hamilton', 'hamilton'], 'washington': ['rochambeau', 'hamilton', 'burr', 'lee', 'hamilton', 'hamilton', 'lee', 'lafayette', 'hamilton', 'burr', 'green', 'knox', 'jefferson', 'jefferson', 'hamilton', 'burr', 'hamilton', 'jefferson', 'madison', 'jefferson'], 'mulligan': ['mulligan', 'hamilton', 'burr', 'mulligan', 'burr'], 'lafayette': ['hamilton', 'hamilton', 'burr', 'lafayette'], 'laurens': ['hamilton', 'lee', 'burr', 'angelica', 'laurens', 'sAdams', 'burr'], 'kingGeorge': ['washington', 'jAdams'], 'jefferson': ['hamilton', 'reynolds', 'eliza', 'hamilton', 'washington', 'hamilton', 'washington', 'lafayette', 'hamilton', 'washington', 'madison', 'burr', 'hamilton', 'lafayette', 'washington', 'sally', 'madison', 'jAdams', 'hamilton', 'burr', 'washington', 'hamilton'], 'madison': ['hamilton', 'washington', 'hamilton', 'hamilton', 'burr', 'jefferson', 'hamilton', 'burr', 'jefferson', 'hamilton', 'jAdams'], 'philipH': ['eacker', 'philipH', 'philipS', 'burr', 'philipH'], 'lee': ['lee', 'washington'], 'peggy': ['peggy', 'schuylerSis'], 'seabury': ['seabury', 'kingGeorge'], 'reynolds': ['reynolds'], 'doctor': ['hamilton']}\n"
     ]
    }
   ],
   "source": [
    "print(data_to_dictionary(data)) #prints the output for data_to_dictionary with argument data"
   ]
  },
  {
   "cell_type": "markdown",
   "metadata": {},
   "source": [
    "## Defining a PR_DiGraph class\n",
    "\n",
    "A **directed graph**, or DiGraph, is just a set of arrows (\"edges\") between objects (\"nodes\"). It is a natural way to represent data that represents one-way relationships, such as links from one webpage to another or mentions of one character by another. We already saw a directed graph above when we introduced the idea of PageRank. Here's a paired-down example. \n",
    "\n",
    "<figure class=\"image\" style=\"width:50%\">\n",
    "  <img src=\"https://computersciencewiki.org/images/c/c6/Directed_graph.png\" alt=\"Six circles, representing nodes, labeled A through F. There are directed arrows between certain pairs of nodes.\" width=\"300px\">\n",
    "  <figcaption><i>Example of a directed graph. </i></figcaption>\n",
    "</figure>"
   ]
  },
  {
   "cell_type": "code",
   "execution_count": 7,
   "metadata": {},
   "outputs": [],
   "source": [
    "class PR_DiGraph:\n",
    "    '''\n",
    "    A class which models a directed graph. \n",
    "    Each PR_DiGraph has data and iteration_limit specified by user.\n",
    "    '''\n",
    "    \n",
    "    def __init__(self,data,iteration_limit):\n",
    "        '''\n",
    "        Contructs the necessary attributes for the PR_DiGraph object\n",
    "        '''\n",
    "        self.data=data                          #the data\n",
    "        self.iteration_limit=iteration_limit    #the iteration_limit\n",
    "        self.link_dict=data_to_dictionary(data) #output of data_to_dictionary applied to the argument data\n",
    "        \n",
    "    def linked_by(self,mentioner):\n",
    "        '''\n",
    "        Returns the list of characters mentioned by the mentioner from the Hamilton data set\n",
    "        Parameter mentioner: the user-specified character mentioning other characters from Hamilton\n",
    "        '''\n",
    "        return self.link_dict[mentioner] #returns list of characters mentioned by the user-specified character\n",
    "        \n",
    "    def __iter__(self):\n",
    "        '''\n",
    "        Used to iterate over elements in object\n",
    "        '''\n",
    "        return(PR_Iterator(self)) \n",
    "        "
   ]
  },
  {
   "cell_type": "code",
   "execution_count": 8,
   "metadata": {},
   "outputs": [
    {
     "data": {
      "text/plain": [
       "['peggy', 'schuylerSis']"
      ]
     },
     "execution_count": 8,
     "metadata": {},
     "output_type": "execute_result"
    }
   ],
   "source": [
    "#example test \n",
    "D = PR_DiGraph(data, iteration_limit = 10000)\n",
    "D.linked_by('peggy')  #tests out linked_by member function from class PR_DiGraph"
   ]
  },
  {
   "cell_type": "markdown",
   "metadata": {},
   "source": [
    "## Implementing a PR_Iterator\n",
    "\n",
    "We are going to use iteration to implement the PageRank algorithm. This  means we are going to imagine a surfer who is following the links in our data set. "
   ]
  },
  {
   "cell_type": "code",
   "execution_count": 9,
   "metadata": {},
   "outputs": [],
   "source": [
    "import random        #imports random module\n",
    "\n",
    "class PR_Iterator:\n",
    "    '''\n",
    "    An iterator class for PR_DiGraph. \n",
    "    Goes by using follow_link with 85% probability and teleport() with 15% probability\n",
    "    '''\n",
    "    def __init__(self,graph):\n",
    "        '''\n",
    "        Contructs the necessary attributes for the PR_Iterator\n",
    "        '''\n",
    "        self.graph=graph               #the graph\n",
    "        self.i=0                       #the counter i, starting at 0\n",
    "        self.current_state=\"hamilton\"  #the current_state set at \"hamilton\"\n",
    "    \n",
    "    def follow_link(self):\n",
    "        '''\n",
    "        Picks a random character mentioned by current character\n",
    "        '''\n",
    "        #picks a random character from list of characters mentioned by current character\n",
    "        next_state=random.choice(self.graph.link_dict.get(self.current_state,self.current_state))\n",
    "        #if statement to check if the character picked is the same one as previous\n",
    "            \n",
    "        if next_state != self.current_state:\n",
    "            self.current_state=next_state #if not the same, set the next character as the current one\n",
    "        else: \n",
    "            #if the character randomly picked is the same one as previous, go to teleport\n",
    "            try:\n",
    "                self.teleport()\n",
    "            except:\n",
    "                self.teleport()  \n",
    "    \n",
    "    def teleport(self):\n",
    "        '''\n",
    "        Picks a random character from the keys of link_dict\n",
    "        '''\n",
    "        #picks random character from the keys of link_dict\n",
    "        next_state=random.choice(list(self.graph.link_dict.keys()))\n",
    "        self.current_state=next_state   #set current_state to next_state\n",
    "        \n",
    "    def __next__(self):\n",
    "        '''\n",
    "        Gets the next iterator element\n",
    "        '''\n",
    "        #if statement to check if the iteration limit has been reached\n",
    "        if self.i == self.graph.iteration_limit:\n",
    "            raise StopIteration    #if it has, then stop the iteration\n",
    "        \n",
    "        #if statement to go to follow_link() with 85% probability\n",
    "        if random.random() < 0.85:\n",
    "            self.follow_link()\n",
    "        else:  #goes to teleport() with 15% probability\n",
    "            self.teleport()\n",
    "        \n",
    "        if len(self.current_state)==1:\n",
    "            self.teleport()\n",
    "\n",
    "        self.i+=1  #increase counter by one\n",
    "\n",
    "        return self.current_state  #returns the current_state\n"
   ]
  },
  {
   "cell_type": "code",
   "execution_count": 10,
   "metadata": {},
   "outputs": [
    {
     "name": "stdout",
     "output_type": "stream",
     "text": [
      "washington\n",
      "hamilton\n",
      "philipH\n",
      "madison\n",
      "hamilton\n"
     ]
    }
   ],
   "source": [
    "# run the below\n",
    "D = PR_DiGraph(data, iteration_limit = 5)\n",
    "for char in D:\n",
    "    print(char)"
   ]
  },
  {
   "cell_type": "markdown",
   "metadata": {},
   "source": [
    "## Computing PageRank"
   ]
  },
  {
   "cell_type": "code",
   "execution_count": 11,
   "metadata": {},
   "outputs": [
    {
     "name": "stdout",
     "output_type": "stream",
     "text": [
      "{'eliza': 51527, 'jefferson': 72547, 'lafayette': 34369, 'burr': 99544, 'angelica': 47645, 'ensemble': 17262, 'kingGeorge': 28701, 'jAdams': 31091, 'mulligan': 21249, 'reynolds': 29276, 'hamilton': 166613, 'madison': 36714, 'laurens': 27565, 'washington': 92308, 'green': 3834, 'doctor': 17077, 'peggy': 20450, 'schuylerSis': 19031, 'women': 17065, 'company': 16899, 'sally': 2903, 'rochambeau': 4024, 'seabury': 16942, 'maria': 1798, 'lee': 33628, 'philipH': 26527, 'knox': 3941, 'men': 17014, 'marthaWashington': 1710, 'generalMercer': 1655, 'eacker': 6316, 'philipS': 7849, 'weeks': 1634, 'generalMontgomery': 1671, 'conway': 1780, 'pendleton': 1680, 'franklin': 1910, 'betsy': 1706, 'sAdams': 3361, 'kingLouis': 1670, 'ness': 1688, 'theodosiaMother': 1685, 'theodosiaDaughter': 1721, 'jay': 1696, 'admiralHowe': 725, 'paine': 1999}\n"
     ]
    }
   ],
   "source": [
    "#initializing a PR_DiGraph with iteration limit of 1,000,000\n",
    "Dataset = PR_DiGraph(data, iteration_limit = 1000000)  \n",
    "D={}   #creating an empty dict\n",
    "\n",
    "#for loop to go through each item in Dataset\n",
    "for mentioner in Dataset:\n",
    "    #creates key for each mentioner, and adds one everytime it appears again throughout Dataset\n",
    "    D[mentioner]=D.get(mentioner,0)+1\n",
    "    \n",
    "print(D) #prints the dict which logs how many times a given state appears when iterating through Dataset"
   ]
  },
  {
   "cell_type": "markdown",
   "metadata": {},
   "source": [
    "## Displaying Results\n",
    "\n",
    "Sorted in descending order according to the corresponding PageRank score"
   ]
  },
  {
   "cell_type": "code",
   "execution_count": 12,
   "metadata": {
    "scrolled": false
   },
   "outputs": [
    {
     "data": {
      "text/plain": [
       "[('hamilton', 166613),\n",
       " ('burr', 99544),\n",
       " ('washington', 92308),\n",
       " ('jefferson', 72547),\n",
       " ('eliza', 51527),\n",
       " ('angelica', 47645),\n",
       " ('madison', 36714),\n",
       " ('lafayette', 34369),\n",
       " ('lee', 33628),\n",
       " ('jAdams', 31091),\n",
       " ('reynolds', 29276),\n",
       " ('kingGeorge', 28701),\n",
       " ('laurens', 27565),\n",
       " ('philipH', 26527),\n",
       " ('mulligan', 21249),\n",
       " ('peggy', 20450),\n",
       " ('schuylerSis', 19031),\n",
       " ('ensemble', 17262),\n",
       " ('doctor', 17077),\n",
       " ('women', 17065),\n",
       " ('men', 17014),\n",
       " ('seabury', 16942),\n",
       " ('company', 16899),\n",
       " ('philipS', 7849),\n",
       " ('eacker', 6316),\n",
       " ('rochambeau', 4024),\n",
       " ('knox', 3941),\n",
       " ('green', 3834),\n",
       " ('sAdams', 3361),\n",
       " ('sally', 2903),\n",
       " ('paine', 1999),\n",
       " ('franklin', 1910),\n",
       " ('maria', 1798),\n",
       " ('conway', 1780),\n",
       " ('theodosiaDaughter', 1721),\n",
       " ('marthaWashington', 1710),\n",
       " ('betsy', 1706),\n",
       " ('jay', 1696),\n",
       " ('ness', 1688),\n",
       " ('theodosiaMother', 1685),\n",
       " ('pendleton', 1680),\n",
       " ('generalMontgomery', 1671),\n",
       " ('kingLouis', 1670),\n",
       " ('generalMercer', 1655),\n",
       " ('weeks', 1634),\n",
       " ('admiralHowe', 725)]"
      ]
     },
     "execution_count": 12,
     "metadata": {},
     "output_type": "execute_result"
    }
   ],
   "source": [
    "sorted(D.items(), key=lambda x: x[1], reverse=True)"
   ]
  },
  {
   "cell_type": "markdown",
   "metadata": {},
   "source": [
    "Looks like Hamilton is mentioned the most throughout the play, followed by Burr, Washington, then Jefferson."
   ]
  }
 ],
 "metadata": {
  "kernelspec": {
   "display_name": "Python 3",
   "language": "python",
   "name": "python3"
  },
  "language_info": {
   "codemirror_mode": {
    "name": "ipython",
    "version": 3
   },
   "file_extension": ".py",
   "mimetype": "text/x-python",
   "name": "python",
   "nbconvert_exporter": "python",
   "pygments_lexer": "ipython3",
   "version": "3.8.8"
  }
 },
 "nbformat": 4,
 "nbformat_minor": 4
}
